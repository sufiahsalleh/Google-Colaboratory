{
  "nbformat": 4,
  "nbformat_minor": 0,
  "metadata": {
    "colab": {
      "name": "MY Tourism Data.ipynb",
      "provenance": [],
      "collapsed_sections": [],
      "authorship_tag": "ABX9TyNNIGp0OHf3HmQ+5icX4ZIo",
      "include_colab_link": true
    },
    "kernelspec": {
      "name": "python3",
      "display_name": "Python 3"
    },
    "language_info": {
      "name": "python"
    }
  },
  "cells": [
    {
      "cell_type": "markdown",
      "metadata": {
        "id": "view-in-github",
        "colab_type": "text"
      },
      "source": [
        "<a href=\"https://colab.research.google.com/github/sufiahsalleh/Malaysia-Tourism-Data/blob/main/MY_Tourism_Data.ipynb\" target=\"_parent\"><img src=\"https://colab.research.google.com/assets/colab-badge.svg\" alt=\"Open In Colab\"/></a>"
      ]
    },
    {
      "cell_type": "markdown",
      "metadata": {
        "id": "ko7rH2dblVD5"
      },
      "source": [
        "Exploring tourism Data\n",
        "\n",
        "1. Import Data\n",
        "2. Clean the Data\n",
        "3. Look histogram and density"
      ]
    },
    {
      "cell_type": "code",
      "metadata": {
        "id": "st8TL6CXlEJ5"
      },
      "source": [
        "import pandas as pd"
      ],
      "execution_count": 3,
      "outputs": []
    },
    {
      "cell_type": "code",
      "metadata": {
        "id": "fy8Q5ttOl54f"
      },
      "source": [
        "data = pd.read_excel('API_ST.INT.ARVL_DS2_en_excel_v2_3011737.xls')"
      ],
      "execution_count": 30,
      "outputs": []
    },
    {
      "cell_type": "code",
      "metadata": {
        "id": "eMU0QzYWm724"
      },
      "source": [
        "df = data.iloc[2:]"
      ],
      "execution_count": 31,
      "outputs": []
    },
    {
      "cell_type": "code",
      "metadata": {
        "id": "i2uRVR6vmtwD"
      },
      "source": [
        "df.rename(columns=df.iloc[0], inplace=True)"
      ],
      "execution_count": null,
      "outputs": []
    },
    {
      "cell_type": "code",
      "metadata": {
        "id": "aF8xdAMyqKb_"
      },
      "source": [
        "dfnew = df.iloc[1:]\n"
      ],
      "execution_count": 34,
      "outputs": []
    },
    {
      "cell_type": "code",
      "metadata": {
        "id": "wmnKjKf8qk29"
      },
      "source": [
        "dfnew"
      ],
      "execution_count": null,
      "outputs": []
    },
    {
      "cell_type": "code",
      "metadata": {
        "id": "cx0FL-gSq4Fc"
      },
      "source": [
        "dfnew = dfnew.drop(['Indicator Name','Indicator Code'], axis = 1)"
      ],
      "execution_count": 36,
      "outputs": []
    },
    {
      "cell_type": "code",
      "metadata": {
        "id": "RMW_gVLIrCOJ"
      },
      "source": [
        "dfnew = dfnew.reset_index()\n",
        "dfnew"
      ],
      "execution_count": null,
      "outputs": []
    },
    {
      "cell_type": "code",
      "metadata": {
        "id": "WgpzgkN1rJep"
      },
      "source": [
        "columns_remove = [float(col) for col in range(1960,1995)]\n",
        "columns_remove"
      ],
      "execution_count": null,
      "outputs": []
    },
    {
      "cell_type": "code",
      "metadata": {
        "id": "8afaWN4QsYly"
      },
      "source": [
        "dfnew = dfnew.drop(columns_remove, axis = 1)"
      ],
      "execution_count": null,
      "outputs": []
    },
    {
      "cell_type": "code",
      "metadata": {
        "id": "bo6aqpVoslLf"
      },
      "source": [
        "dfnew2 = dfnew.fillna(dfnew.mean())"
      ],
      "execution_count": 47,
      "outputs": []
    },
    {
      "cell_type": "code",
      "metadata": {
        "id": "rikLquops1qF"
      },
      "source": [
        "dfnew2.head(10)"
      ],
      "execution_count": null,
      "outputs": []
    },
    {
      "cell_type": "code",
      "metadata": {
        "id": "onN_QszFtVcb"
      },
      "source": [
        "dfnew2.to_csv('Malaysian_Tourism_Data_1995_to_2019.csv')\n",
        "dfnew2['Country Name'] = dfnew2.index"
      ],
      "execution_count": 50,
      "outputs": []
    },
    {
      "cell_type": "code",
      "metadata": {
        "colab": {
          "base_uri": "https://localhost:8080/",
          "height": 456
        },
        "id": "nX2Cnc_euNz4",
        "outputId": "9ced955a-b130-4de0-99bc-a28450b21901"
      },
      "source": [
        "dfnew3 = dfnew2.drop(['index'],axis = 1)\n",
        "dfnew3"
      ],
      "execution_count": 54,
      "outputs": [
        {
          "output_type": "execute_result",
          "data": {
            "text/html": [
              "<div>\n",
              "<style scoped>\n",
              "    .dataframe tbody tr th:only-of-type {\n",
              "        vertical-align: middle;\n",
              "    }\n",
              "\n",
              "    .dataframe tbody tr th {\n",
              "        vertical-align: top;\n",
              "    }\n",
              "\n",
              "    .dataframe thead th {\n",
              "        text-align: right;\n",
              "    }\n",
              "</style>\n",
              "<table border=\"1\" class=\"dataframe\">\n",
              "  <thead>\n",
              "    <tr style=\"text-align: right;\">\n",
              "      <th></th>\n",
              "      <th>Country Name</th>\n",
              "      <th>Country Code</th>\n",
              "      <th>1995.0</th>\n",
              "      <th>1996.0</th>\n",
              "      <th>1997.0</th>\n",
              "      <th>1998.0</th>\n",
              "      <th>1999.0</th>\n",
              "      <th>2000.0</th>\n",
              "      <th>2001.0</th>\n",
              "      <th>2002.0</th>\n",
              "      <th>2003.0</th>\n",
              "      <th>2004.0</th>\n",
              "      <th>2005.0</th>\n",
              "      <th>2006.0</th>\n",
              "      <th>2007.0</th>\n",
              "      <th>2008.0</th>\n",
              "      <th>2009.0</th>\n",
              "      <th>2010.0</th>\n",
              "      <th>2011.0</th>\n",
              "      <th>2012.0</th>\n",
              "      <th>2013.0</th>\n",
              "      <th>2014.0</th>\n",
              "      <th>2015.0</th>\n",
              "      <th>2016.0</th>\n",
              "      <th>2017.0</th>\n",
              "      <th>2018.0</th>\n",
              "      <th>2019.0</th>\n",
              "      <th>2020.0</th>\n",
              "    </tr>\n",
              "  </thead>\n",
              "  <tbody>\n",
              "    <tr>\n",
              "      <th>0</th>\n",
              "      <td>0</td>\n",
              "      <td>ABW</td>\n",
              "      <td>9.120000e+05</td>\n",
              "      <td>9.570000e+05</td>\n",
              "      <td>9.470000e+05</td>\n",
              "      <td>9.060000e+05</td>\n",
              "      <td>9.720000e+05</td>\n",
              "      <td>1.211000e+06</td>\n",
              "      <td>1.178000e+06</td>\n",
              "      <td>1.225000e+06</td>\n",
              "      <td>1.184000e+06</td>\n",
              "      <td>1.304000e+06</td>\n",
              "      <td>1.286000e+06</td>\n",
              "      <td>1.285000e+06</td>\n",
              "      <td>1.254000e+06</td>\n",
              "      <td>1.383000e+06</td>\n",
              "      <td>1.420000e+06</td>\n",
              "      <td>1.394000e+06</td>\n",
              "      <td>1.469000e+06</td>\n",
              "      <td>1.481000e+06</td>\n",
              "      <td>1.667000e+06</td>\n",
              "      <td>1.739000e+06</td>\n",
              "      <td>1.832000e+06</td>\n",
              "      <td>1.758000e+06</td>\n",
              "      <td>1.863000e+06</td>\n",
              "      <td>1.897000e+06</td>\n",
              "      <td>1.951000e+06</td>\n",
              "      <td>NaN</td>\n",
              "    </tr>\n",
              "    <tr>\n",
              "      <th>1</th>\n",
              "      <td>1</td>\n",
              "      <td>AFE</td>\n",
              "      <td>1.158354e+07</td>\n",
              "      <td>1.308865e+07</td>\n",
              "      <td>1.345625e+07</td>\n",
              "      <td>1.440385e+07</td>\n",
              "      <td>1.530938e+07</td>\n",
              "      <td>1.535318e+07</td>\n",
              "      <td>1.585470e+07</td>\n",
              "      <td>1.738338e+07</td>\n",
              "      <td>1.784439e+07</td>\n",
              "      <td>1.874595e+07</td>\n",
              "      <td>1.991757e+07</td>\n",
              "      <td>2.265032e+07</td>\n",
              "      <td>2.511490e+07</td>\n",
              "      <td>2.541310e+07</td>\n",
              "      <td>2.596442e+07</td>\n",
              "      <td>2.907150e+07</td>\n",
              "      <td>3.165024e+07</td>\n",
              "      <td>3.274855e+07</td>\n",
              "      <td>3.442663e+07</td>\n",
              "      <td>3.573839e+07</td>\n",
              "      <td>3.531868e+07</td>\n",
              "      <td>3.764589e+07</td>\n",
              "      <td>3.825835e+07</td>\n",
              "      <td>4.118915e+07</td>\n",
              "      <td>3.982670e+07</td>\n",
              "      <td>NaN</td>\n",
              "    </tr>\n",
              "    <tr>\n",
              "      <th>2</th>\n",
              "      <td>2</td>\n",
              "      <td>AFG</td>\n",
              "      <td>3.792342e+07</td>\n",
              "      <td>3.954433e+07</td>\n",
              "      <td>4.129982e+07</td>\n",
              "      <td>4.115132e+07</td>\n",
              "      <td>4.281754e+07</td>\n",
              "      <td>4.510920e+07</td>\n",
              "      <td>4.375323e+07</td>\n",
              "      <td>4.497683e+07</td>\n",
              "      <td>4.637375e+07</td>\n",
              "      <td>5.426021e+07</td>\n",
              "      <td>5.617081e+07</td>\n",
              "      <td>6.057587e+07</td>\n",
              "      <td>6.193796e+07</td>\n",
              "      <td>6.132160e+07</td>\n",
              "      <td>6.002198e+07</td>\n",
              "      <td>6.148751e+07</td>\n",
              "      <td>6.238510e+07</td>\n",
              "      <td>6.560918e+07</td>\n",
              "      <td>6.813359e+07</td>\n",
              "      <td>6.989868e+07</td>\n",
              "      <td>7.134851e+07</td>\n",
              "      <td>7.395350e+07</td>\n",
              "      <td>8.029180e+07</td>\n",
              "      <td>8.639792e+07</td>\n",
              "      <td>9.003628e+07</td>\n",
              "      <td>NaN</td>\n",
              "    </tr>\n",
              "    <tr>\n",
              "      <th>3</th>\n",
              "      <td>3</td>\n",
              "      <td>AFW</td>\n",
              "      <td>2.670706e+06</td>\n",
              "      <td>3.027135e+06</td>\n",
              "      <td>3.243144e+06</td>\n",
              "      <td>3.422652e+06</td>\n",
              "      <td>3.897975e+06</td>\n",
              "      <td>4.162850e+06</td>\n",
              "      <td>4.615887e+06</td>\n",
              "      <td>4.697120e+06</td>\n",
              "      <td>5.013050e+06</td>\n",
              "      <td>5.839377e+06</td>\n",
              "      <td>6.320832e+06</td>\n",
              "      <td>6.955607e+06</td>\n",
              "      <td>9.389591e+06</td>\n",
              "      <td>1.015759e+07</td>\n",
              "      <td>1.056971e+07</td>\n",
              "      <td>1.107080e+07</td>\n",
              "      <td>8.902380e+06</td>\n",
              "      <td>1.022103e+07</td>\n",
              "      <td>1.008582e+07</td>\n",
              "      <td>1.054462e+07</td>\n",
              "      <td>1.331168e+07</td>\n",
              "      <td>1.315078e+07</td>\n",
              "      <td>8.029180e+07</td>\n",
              "      <td>8.639792e+07</td>\n",
              "      <td>9.003628e+07</td>\n",
              "      <td>NaN</td>\n",
              "    </tr>\n",
              "    <tr>\n",
              "      <th>4</th>\n",
              "      <td>4</td>\n",
              "      <td>AGO</td>\n",
              "      <td>9.000000e+03</td>\n",
              "      <td>2.100000e+04</td>\n",
              "      <td>4.500000e+04</td>\n",
              "      <td>5.200000e+04</td>\n",
              "      <td>4.500000e+04</td>\n",
              "      <td>5.100000e+04</td>\n",
              "      <td>6.700000e+04</td>\n",
              "      <td>9.100000e+04</td>\n",
              "      <td>1.070000e+05</td>\n",
              "      <td>1.940000e+05</td>\n",
              "      <td>2.100000e+05</td>\n",
              "      <td>1.210000e+05</td>\n",
              "      <td>1.950000e+05</td>\n",
              "      <td>2.940000e+05</td>\n",
              "      <td>3.660000e+05</td>\n",
              "      <td>4.250000e+05</td>\n",
              "      <td>4.810000e+05</td>\n",
              "      <td>5.280000e+05</td>\n",
              "      <td>6.500000e+05</td>\n",
              "      <td>5.950000e+05</td>\n",
              "      <td>5.920000e+05</td>\n",
              "      <td>3.970000e+05</td>\n",
              "      <td>2.610000e+05</td>\n",
              "      <td>2.180000e+05</td>\n",
              "      <td>2.180000e+05</td>\n",
              "      <td>NaN</td>\n",
              "    </tr>\n",
              "    <tr>\n",
              "      <th>...</th>\n",
              "      <td>...</td>\n",
              "      <td>...</td>\n",
              "      <td>...</td>\n",
              "      <td>...</td>\n",
              "      <td>...</td>\n",
              "      <td>...</td>\n",
              "      <td>...</td>\n",
              "      <td>...</td>\n",
              "      <td>...</td>\n",
              "      <td>...</td>\n",
              "      <td>...</td>\n",
              "      <td>...</td>\n",
              "      <td>...</td>\n",
              "      <td>...</td>\n",
              "      <td>...</td>\n",
              "      <td>...</td>\n",
              "      <td>...</td>\n",
              "      <td>...</td>\n",
              "      <td>...</td>\n",
              "      <td>...</td>\n",
              "      <td>...</td>\n",
              "      <td>...</td>\n",
              "      <td>...</td>\n",
              "      <td>...</td>\n",
              "      <td>...</td>\n",
              "      <td>...</td>\n",
              "      <td>...</td>\n",
              "      <td>...</td>\n",
              "    </tr>\n",
              "    <tr>\n",
              "      <th>261</th>\n",
              "      <td>261</td>\n",
              "      <td>XKX</td>\n",
              "      <td>3.792342e+07</td>\n",
              "      <td>3.954433e+07</td>\n",
              "      <td>4.129982e+07</td>\n",
              "      <td>4.115132e+07</td>\n",
              "      <td>4.281754e+07</td>\n",
              "      <td>4.510920e+07</td>\n",
              "      <td>4.375323e+07</td>\n",
              "      <td>4.497683e+07</td>\n",
              "      <td>4.637375e+07</td>\n",
              "      <td>5.426021e+07</td>\n",
              "      <td>5.617081e+07</td>\n",
              "      <td>6.057587e+07</td>\n",
              "      <td>6.193796e+07</td>\n",
              "      <td>6.132160e+07</td>\n",
              "      <td>6.002198e+07</td>\n",
              "      <td>6.148751e+07</td>\n",
              "      <td>6.238510e+07</td>\n",
              "      <td>6.560918e+07</td>\n",
              "      <td>6.813359e+07</td>\n",
              "      <td>6.989868e+07</td>\n",
              "      <td>7.134851e+07</td>\n",
              "      <td>7.395350e+07</td>\n",
              "      <td>8.029180e+07</td>\n",
              "      <td>8.639792e+07</td>\n",
              "      <td>9.003628e+07</td>\n",
              "      <td>NaN</td>\n",
              "    </tr>\n",
              "    <tr>\n",
              "      <th>262</th>\n",
              "      <td>262</td>\n",
              "      <td>YEM</td>\n",
              "      <td>3.792342e+07</td>\n",
              "      <td>3.954433e+07</td>\n",
              "      <td>4.129982e+07</td>\n",
              "      <td>4.115132e+07</td>\n",
              "      <td>4.281754e+07</td>\n",
              "      <td>4.510920e+07</td>\n",
              "      <td>4.375323e+07</td>\n",
              "      <td>4.497683e+07</td>\n",
              "      <td>4.637375e+07</td>\n",
              "      <td>5.426021e+07</td>\n",
              "      <td>5.617081e+07</td>\n",
              "      <td>6.057587e+07</td>\n",
              "      <td>6.193796e+07</td>\n",
              "      <td>6.132160e+07</td>\n",
              "      <td>6.002198e+07</td>\n",
              "      <td>1.035000e+06</td>\n",
              "      <td>1.175000e+06</td>\n",
              "      <td>1.282000e+06</td>\n",
              "      <td>1.323000e+06</td>\n",
              "      <td>1.218000e+06</td>\n",
              "      <td>3.980000e+05</td>\n",
              "      <td>7.395350e+07</td>\n",
              "      <td>8.029180e+07</td>\n",
              "      <td>8.639792e+07</td>\n",
              "      <td>9.003628e+07</td>\n",
              "      <td>NaN</td>\n",
              "    </tr>\n",
              "    <tr>\n",
              "      <th>263</th>\n",
              "      <td>263</td>\n",
              "      <td>ZAF</td>\n",
              "      <td>4.684000e+06</td>\n",
              "      <td>5.186000e+06</td>\n",
              "      <td>5.170000e+06</td>\n",
              "      <td>5.898000e+06</td>\n",
              "      <td>6.026000e+06</td>\n",
              "      <td>6.001000e+06</td>\n",
              "      <td>5.908000e+06</td>\n",
              "      <td>6.550000e+06</td>\n",
              "      <td>6.640000e+06</td>\n",
              "      <td>6.815000e+06</td>\n",
              "      <td>7.518000e+06</td>\n",
              "      <td>8.509000e+06</td>\n",
              "      <td>9.208000e+06</td>\n",
              "      <td>9.729000e+06</td>\n",
              "      <td>9.532000e+06</td>\n",
              "      <td>1.130300e+07</td>\n",
              "      <td>1.209700e+07</td>\n",
              "      <td>1.306900e+07</td>\n",
              "      <td>1.431800e+07</td>\n",
              "      <td>1.453000e+07</td>\n",
              "      <td>1.395200e+07</td>\n",
              "      <td>1.512100e+07</td>\n",
              "      <td>1.497500e+07</td>\n",
              "      <td>1.500400e+07</td>\n",
              "      <td>1.479700e+07</td>\n",
              "      <td>NaN</td>\n",
              "    </tr>\n",
              "    <tr>\n",
              "      <th>264</th>\n",
              "      <td>264</td>\n",
              "      <td>ZMB</td>\n",
              "      <td>1.630000e+05</td>\n",
              "      <td>2.640000e+05</td>\n",
              "      <td>3.410000e+05</td>\n",
              "      <td>3.620000e+05</td>\n",
              "      <td>4.040000e+05</td>\n",
              "      <td>4.570000e+05</td>\n",
              "      <td>4.920000e+05</td>\n",
              "      <td>5.650000e+05</td>\n",
              "      <td>4.130000e+05</td>\n",
              "      <td>5.150000e+05</td>\n",
              "      <td>6.690000e+05</td>\n",
              "      <td>7.570000e+05</td>\n",
              "      <td>8.970000e+05</td>\n",
              "      <td>8.120000e+05</td>\n",
              "      <td>7.100000e+05</td>\n",
              "      <td>8.150000e+05</td>\n",
              "      <td>9.200000e+05</td>\n",
              "      <td>8.590000e+05</td>\n",
              "      <td>9.150000e+05</td>\n",
              "      <td>9.470000e+05</td>\n",
              "      <td>9.320000e+05</td>\n",
              "      <td>9.560000e+05</td>\n",
              "      <td>1.009000e+06</td>\n",
              "      <td>1.072000e+06</td>\n",
              "      <td>1.266000e+06</td>\n",
              "      <td>NaN</td>\n",
              "    </tr>\n",
              "    <tr>\n",
              "      <th>265</th>\n",
              "      <td>265</td>\n",
              "      <td>ZWE</td>\n",
              "      <td>1.416000e+06</td>\n",
              "      <td>1.597000e+06</td>\n",
              "      <td>1.336000e+06</td>\n",
              "      <td>2.090000e+06</td>\n",
              "      <td>2.250000e+06</td>\n",
              "      <td>1.967000e+06</td>\n",
              "      <td>2.217000e+06</td>\n",
              "      <td>2.041000e+06</td>\n",
              "      <td>2.256000e+06</td>\n",
              "      <td>1.854000e+06</td>\n",
              "      <td>1.559000e+06</td>\n",
              "      <td>2.287000e+06</td>\n",
              "      <td>2.506000e+06</td>\n",
              "      <td>1.956000e+06</td>\n",
              "      <td>2.017000e+06</td>\n",
              "      <td>2.239000e+06</td>\n",
              "      <td>2.423000e+06</td>\n",
              "      <td>1.794000e+06</td>\n",
              "      <td>1.833000e+06</td>\n",
              "      <td>1.880000e+06</td>\n",
              "      <td>2.057000e+06</td>\n",
              "      <td>2.168000e+06</td>\n",
              "      <td>2.423000e+06</td>\n",
              "      <td>2.580000e+06</td>\n",
              "      <td>2.294000e+06</td>\n",
              "      <td>NaN</td>\n",
              "    </tr>\n",
              "  </tbody>\n",
              "</table>\n",
              "<p>266 rows × 28 columns</p>\n",
              "</div>"
            ],
            "text/plain": [
              "     Country Name Country Code  ...        2019.0  2020.0\n",
              "0               0          ABW  ...  1.951000e+06     NaN\n",
              "1               1          AFE  ...  3.982670e+07     NaN\n",
              "2               2          AFG  ...  9.003628e+07     NaN\n",
              "3               3          AFW  ...  9.003628e+07     NaN\n",
              "4               4          AGO  ...  2.180000e+05     NaN\n",
              "..            ...          ...  ...           ...     ...\n",
              "261           261          XKX  ...  9.003628e+07     NaN\n",
              "262           262          YEM  ...  9.003628e+07     NaN\n",
              "263           263          ZAF  ...  1.479700e+07     NaN\n",
              "264           264          ZMB  ...  1.266000e+06     NaN\n",
              "265           265          ZWE  ...  2.294000e+06     NaN\n",
              "\n",
              "[266 rows x 28 columns]"
            ]
          },
          "metadata": {},
          "execution_count": 54
        }
      ]
    },
    {
      "cell_type": "code",
      "metadata": {
        "colab": {
          "base_uri": "https://localhost:8080/"
        },
        "id": "guZjFT20ut49",
        "outputId": "20509d1c-cba2-4cf6-d181-bbcaa6bbccc2"
      },
      "source": [
        "high_1995 = dfnew3[1995.0].idxmax()\n",
        "high_1995"
      ],
      "execution_count": 56,
      "outputs": [
        {
          "output_type": "execute_result",
          "data": {
            "text/plain": [
              "259"
            ]
          },
          "metadata": {},
          "execution_count": 56
        }
      ]
    },
    {
      "cell_type": "code",
      "metadata": {
        "colab": {
          "base_uri": "https://localhost:8080/",
          "height": 117
        },
        "id": "Y62VqBYbvdq0",
        "outputId": "b9731456-de94-40c7-bf28-c53bd3193976"
      },
      "source": [
        "dfnew3.loc[[259]]"
      ],
      "execution_count": 58,
      "outputs": [
        {
          "output_type": "execute_result",
          "data": {
            "text/html": [
              "<div>\n",
              "<style scoped>\n",
              "    .dataframe tbody tr th:only-of-type {\n",
              "        vertical-align: middle;\n",
              "    }\n",
              "\n",
              "    .dataframe tbody tr th {\n",
              "        vertical-align: top;\n",
              "    }\n",
              "\n",
              "    .dataframe thead th {\n",
              "        text-align: right;\n",
              "    }\n",
              "</style>\n",
              "<table border=\"1\" class=\"dataframe\">\n",
              "  <thead>\n",
              "    <tr style=\"text-align: right;\">\n",
              "      <th></th>\n",
              "      <th>Country Name</th>\n",
              "      <th>Country Code</th>\n",
              "      <th>1995.0</th>\n",
              "      <th>1996.0</th>\n",
              "      <th>1997.0</th>\n",
              "      <th>1998.0</th>\n",
              "      <th>1999.0</th>\n",
              "      <th>2000.0</th>\n",
              "      <th>2001.0</th>\n",
              "      <th>2002.0</th>\n",
              "      <th>2003.0</th>\n",
              "      <th>2004.0</th>\n",
              "      <th>2005.0</th>\n",
              "      <th>2006.0</th>\n",
              "      <th>2007.0</th>\n",
              "      <th>2008.0</th>\n",
              "      <th>2009.0</th>\n",
              "      <th>2010.0</th>\n",
              "      <th>2011.0</th>\n",
              "      <th>2012.0</th>\n",
              "      <th>2013.0</th>\n",
              "      <th>2014.0</th>\n",
              "      <th>2015.0</th>\n",
              "      <th>2016.0</th>\n",
              "      <th>2017.0</th>\n",
              "      <th>2018.0</th>\n",
              "      <th>2019.0</th>\n",
              "      <th>2020.0</th>\n",
              "    </tr>\n",
              "  </thead>\n",
              "  <tbody>\n",
              "    <tr>\n",
              "      <th>259</th>\n",
              "      <td>259</td>\n",
              "      <td>WLD</td>\n",
              "      <td>1.024979e+09</td>\n",
              "      <td>1.082486e+09</td>\n",
              "      <td>1.130316e+09</td>\n",
              "      <td>1.145612e+09</td>\n",
              "      <td>1.188192e+09</td>\n",
              "      <td>1.262413e+09</td>\n",
              "      <td>1.231352e+09</td>\n",
              "      <td>1.252355e+09</td>\n",
              "      <td>1.234392e+09</td>\n",
              "      <td>1.363541e+09</td>\n",
              "      <td>1.426061e+09</td>\n",
              "      <td>1.598479e+09</td>\n",
              "      <td>1.652013e+09</td>\n",
              "      <td>1.662876e+09</td>\n",
              "      <td>1.602439e+09</td>\n",
              "      <td>1.667619e+09</td>\n",
              "      <td>1.700644e+09</td>\n",
              "      <td>1.784601e+09</td>\n",
              "      <td>1.852337e+09</td>\n",
              "      <td>1.909107e+09</td>\n",
              "      <td>1.966290e+09</td>\n",
              "      <td>2.031531e+09</td>\n",
              "      <td>2.135215e+09</td>\n",
              "      <td>2.221459e+09</td>\n",
              "      <td>2.280131e+09</td>\n",
              "      <td>NaN</td>\n",
              "    </tr>\n",
              "  </tbody>\n",
              "</table>\n",
              "</div>"
            ],
            "text/plain": [
              "     Country Name Country Code  ...        2019.0  2020.0\n",
              "259           259          WLD  ...  2.280131e+09     NaN\n",
              "\n",
              "[1 rows x 28 columns]"
            ]
          },
          "metadata": {},
          "execution_count": 58
        }
      ]
    },
    {
      "cell_type": "code",
      "metadata": {
        "id": "pzjzTE8EwWhy"
      },
      "source": [
        "dfnew4 = dfnew3.drop([dfnew3.index[259]])"
      ],
      "execution_count": 59,
      "outputs": []
    },
    {
      "cell_type": "code",
      "metadata": {
        "id": "G-wneAjmwvww"
      },
      "source": [
        "high_1995 = dfnew4[1995.0].idxmax()"
      ],
      "execution_count": 61,
      "outputs": []
    },
    {
      "cell_type": "code",
      "metadata": {
        "colab": {
          "base_uri": "https://localhost:8080/"
        },
        "id": "JzrVkAWiw9Wl",
        "outputId": "4cc82ecd-79bd-4928-be80-12a3955f9245"
      },
      "source": [
        "high_1995"
      ],
      "execution_count": 62,
      "outputs": [
        {
          "output_type": "execute_result",
          "data": {
            "text/plain": [
              "181"
            ]
          },
          "metadata": {},
          "execution_count": 62
        }
      ]
    },
    {
      "cell_type": "code",
      "metadata": {
        "colab": {
          "base_uri": "https://localhost:8080/",
          "height": 117
        },
        "id": "h2AGYsjBxAWL",
        "outputId": "d41cddee-0a38-4b6b-e4b1-404139b26c80"
      },
      "source": [
        "dfnew4.loc[[181]]"
      ],
      "execution_count": 64,
      "outputs": [
        {
          "output_type": "execute_result",
          "data": {
            "text/html": [
              "<div>\n",
              "<style scoped>\n",
              "    .dataframe tbody tr th:only-of-type {\n",
              "        vertical-align: middle;\n",
              "    }\n",
              "\n",
              "    .dataframe tbody tr th {\n",
              "        vertical-align: top;\n",
              "    }\n",
              "\n",
              "    .dataframe thead th {\n",
              "        text-align: right;\n",
              "    }\n",
              "</style>\n",
              "<table border=\"1\" class=\"dataframe\">\n",
              "  <thead>\n",
              "    <tr style=\"text-align: right;\">\n",
              "      <th></th>\n",
              "      <th>Country Name</th>\n",
              "      <th>Country Code</th>\n",
              "      <th>1995.0</th>\n",
              "      <th>1996.0</th>\n",
              "      <th>1997.0</th>\n",
              "      <th>1998.0</th>\n",
              "      <th>1999.0</th>\n",
              "      <th>2000.0</th>\n",
              "      <th>2001.0</th>\n",
              "      <th>2002.0</th>\n",
              "      <th>2003.0</th>\n",
              "      <th>2004.0</th>\n",
              "      <th>2005.0</th>\n",
              "      <th>2006.0</th>\n",
              "      <th>2007.0</th>\n",
              "      <th>2008.0</th>\n",
              "      <th>2009.0</th>\n",
              "      <th>2010.0</th>\n",
              "      <th>2011.0</th>\n",
              "      <th>2012.0</th>\n",
              "      <th>2013.0</th>\n",
              "      <th>2014.0</th>\n",
              "      <th>2015.0</th>\n",
              "      <th>2016.0</th>\n",
              "      <th>2017.0</th>\n",
              "      <th>2018.0</th>\n",
              "      <th>2019.0</th>\n",
              "      <th>2020.0</th>\n",
              "    </tr>\n",
              "  </thead>\n",
              "  <tbody>\n",
              "    <tr>\n",
              "      <th>181</th>\n",
              "      <td>181</td>\n",
              "      <td>OED</td>\n",
              "      <td>7.820643e+08</td>\n",
              "      <td>8.175267e+08</td>\n",
              "      <td>8.428156e+08</td>\n",
              "      <td>8.553810e+08</td>\n",
              "      <td>8.688356e+08</td>\n",
              "      <td>8.993974e+08</td>\n",
              "      <td>8.433396e+08</td>\n",
              "      <td>8.313681e+08</td>\n",
              "      <td>8.156120e+08</td>\n",
              "      <td>8.693009e+08</td>\n",
              "      <td>9.020373e+08</td>\n",
              "      <td>1.039695e+09</td>\n",
              "      <td>1.040391e+09</td>\n",
              "      <td>1.034749e+09</td>\n",
              "      <td>9.956581e+08</td>\n",
              "      <td>1.006706e+09</td>\n",
              "      <td>1.021675e+09</td>\n",
              "      <td>1.071525e+09</td>\n",
              "      <td>1.111242e+09</td>\n",
              "      <td>1.144634e+09</td>\n",
              "      <td>1.180486e+09</td>\n",
              "      <td>1.223902e+09</td>\n",
              "      <td>1.277930e+09</td>\n",
              "      <td>1.309831e+09</td>\n",
              "      <td>1.342168e+09</td>\n",
              "      <td>NaN</td>\n",
              "    </tr>\n",
              "  </tbody>\n",
              "</table>\n",
              "</div>"
            ],
            "text/plain": [
              "     Country Name Country Code  ...        2019.0  2020.0\n",
              "181           181          OED  ...  1.342168e+09     NaN\n",
              "\n",
              "[1 rows x 28 columns]"
            ]
          },
          "metadata": {},
          "execution_count": 64
        }
      ]
    },
    {
      "cell_type": "code",
      "metadata": {
        "colab": {
          "base_uri": "https://localhost:8080/"
        },
        "id": "LRyDIwkNxaG0",
        "outputId": "7399aca2-a3e9-44df-d792-6d209adf0985"
      },
      "source": [
        "dfnew4[1995.0].describe()"
      ],
      "execution_count": 65,
      "outputs": [
        {
          "output_type": "execute_result",
          "data": {
            "text/plain": [
              "count    2.650000e+02\n",
              "mean     3.419869e+07\n",
              "std      9.618711e+07\n",
              "min      9.000000e+02\n",
              "25%      3.700000e+05\n",
              "50%      3.820369e+06\n",
              "75%      3.792342e+07\n",
              "max      7.820643e+08\n",
              "Name: 1995.0, dtype: float64"
            ]
          },
          "metadata": {},
          "execution_count": 65
        }
      ]
    },
    {
      "cell_type": "code",
      "metadata": {
        "colab": {
          "base_uri": "https://localhost:8080/",
          "height": 293
        },
        "id": "r6bUzoKmxgVX",
        "outputId": "4217f112-4230-4c19-a605-f7252def0a5a"
      },
      "source": [
        "dfnew4[1995.0].plot()"
      ],
      "execution_count": 66,
      "outputs": [
        {
          "output_type": "execute_result",
          "data": {
            "text/plain": [
              "<matplotlib.axes._subplots.AxesSubplot at 0x7f1e09e35ad0>"
            ]
          },
          "metadata": {},
          "execution_count": 66
        },
        {
          "output_type": "display_data",
          "data": {
            "image/png": "[encoded data removed]",
            "text/plain": [
              "<Figure size 432x288 with 1 Axes>"
            ]
          },
          "metadata": {
            "needs_background": "light"
          }
        }
      ]
    }
  ]
}